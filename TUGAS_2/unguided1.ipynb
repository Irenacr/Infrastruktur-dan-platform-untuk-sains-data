{
 "cells": [
  {
   "cell_type": "code",
   "execution_count": 2,
   "metadata": {},
   "outputs": [],
   "source": [
    "import pandas as pd\n",
    "import numpy as np"
   ]
  },
  {
   "cell_type": "code",
   "execution_count": 5,
   "metadata": {},
   "outputs": [],
   "source": [
    "import csv"
   ]
  },
  {
   "cell_type": "code",
   "execution_count": 7,
   "metadata": {},
   "outputs": [],
   "source": [
    "import pandas as pd\n",
    "\n",
    "df = pd.read_csv('Movie_classification - Movie_classification.csv')\n"
   ]
  },
  {
   "cell_type": "code",
   "execution_count": 8,
   "metadata": {},
   "outputs": [
    {
     "name": "stdout",
     "output_type": "stream",
     "text": [
      "Empty DataFrame\n",
      "Columns: [Marketing expense, Production expense, Multiplex coverage, Budget, Movie_length, Lead_ Actor_Rating, Lead_Actress_rating, Director_rating, Producer_rating, Critic_rating, Trailer_views, 3D_available, Time_taken, Twitter_hastags, Genre, Avg_age_actors, Num_multiplex, Collection, Start_Tech_Oscar]\n",
      "Index: []\n"
     ]
    }
   ],
   "source": [
    "duplicated_rows = df[df.duplicated(keep=False)]\n",
    "print(duplicated_rows)\n"
   ]
  },
  {
   "cell_type": "code",
   "execution_count": 10,
   "metadata": {},
   "outputs": [
    {
     "name": "stdout",
     "output_type": "stream",
     "text": [
      "                     Jumlah NULL  Persentase NULL\n",
      "Marketing expense              0         0.000000\n",
      "Production expense             0         0.000000\n",
      "Multiplex coverage             0         0.000000\n",
      "Budget                         0         0.000000\n",
      "Movie_length                   0         0.000000\n",
      "Lead_ Actor_Rating             0         0.000000\n",
      "Lead_Actress_rating            0         0.000000\n",
      "Director_rating                0         0.000000\n",
      "Producer_rating                0         0.000000\n",
      "Critic_rating                  0         0.000000\n",
      "Trailer_views                  0         0.000000\n",
      "3D_available                   0         0.000000\n",
      "Time_taken                    12         2.371542\n",
      "Twitter_hastags                0         0.000000\n",
      "Genre                          0         0.000000\n",
      "Avg_age_actors                 0         0.000000\n",
      "Num_multiplex                  0         0.000000\n",
      "Collection                     0         0.000000\n",
      "Start_Tech_Oscar               0         0.000000\n"
     ]
    }
   ],
   "source": [
    "import pandas as pd\n",
    "\n",
    "# Membaca file CSV\n",
    "df = pd.read_csv('Movie_classification - Movie_classification.csv')\n",
    "\n",
    "# Mencari nilai NULL di setiap kolom\n",
    "null_counts = df.isnull().sum()\n",
    "\n",
    "# Menghitung persentase nilai NULL di setiap kolom\n",
    "null_percentages = (null_counts / len(df)) * 100\n",
    "\n",
    "# Menggabungkan jumlah dan persentase NULL dalam satu DataFrame\n",
    "null_summary = pd.DataFrame({'Jumlah NULL': null_counts, 'Persentase NULL': null_percentages})\n",
    "\n",
    "# Menampilkan ringkasan\n",
    "print(null_summary)\n"
   ]
  },
  {
   "cell_type": "code",
   "execution_count": null,
   "metadata": {},
   "outputs": [],
   "source": []
  }
 ],
 "metadata": {
  "kernelspec": {
   "display_name": "Python 3",
   "language": "python",
   "name": "python3"
  },
  "language_info": {
   "codemirror_mode": {
    "name": "ipython",
    "version": 3
   },
   "file_extension": ".py",
   "mimetype": "text/x-python",
   "name": "python",
   "nbconvert_exporter": "python",
   "pygments_lexer": "ipython3",
   "version": "3.12.6"
  }
 },
 "nbformat": 4,
 "nbformat_minor": 2
}

