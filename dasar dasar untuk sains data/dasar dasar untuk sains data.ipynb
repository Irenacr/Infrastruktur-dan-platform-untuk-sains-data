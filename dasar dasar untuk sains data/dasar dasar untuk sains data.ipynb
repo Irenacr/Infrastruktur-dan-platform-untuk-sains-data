{
 "cells": [
  {
   "cell_type": "code",
   "execution_count": 2,
   "metadata": {},
   "outputs": [
    {
     "name": "stdout",
     "output_type": "stream",
     "text": [
      "1\n",
      "2 3\n",
      "5 7 11\n",
      "13 17 19 23\n"
     ]
    }
   ],
   "source": [
    "def is_prime(num):\n",
    "    \"\"\"Fungsi untuk memeriksa apakah suatu bilangan adalah bilangan prima.\"\"\"\n",
    "    if num < 2:\n",
    "        return False\n",
    "    for i in range(2, int(num ** 0.5) + 1):\n",
    "        if num % i == 0:\n",
    "            return False\n",
    "    return True\n",
    "\n",
    "def generate_pattern(rows):\n",
    "    \"\"\"Fungsi untuk menghasilkan pola bilangan prima dimulai dari angka 1.\"\"\"\n",
    "    current_num = 2  # Memulai pencarian bilangan prima dari angka 2\n",
    "    for row in range(1, rows + 1):\n",
    "        num_list = []\n",
    "\n",
    "        # Jika baris pertama, tampilkan 1\n",
    "        if row == 1:\n",
    "            print(1)\n",
    "        else:\n",
    "            while len(num_list) < row:\n",
    "                if is_prime(current_num):\n",
    "                    num_list.append(current_num)\n",
    "                current_num += 1\n",
    "            print(\" \".join(map(str, num_list)))\n",
    "\n",
    "# Menentukan jumlah baris\n",
    "generate_pattern(4)\n"
   ]
  },
  {
   "cell_type": "code",
   "execution_count": 4,
   "metadata": {},
   "outputs": [
    {
     "name": "stdout",
     "output_type": "stream",
     "text": [
      "[65, 43, 42, 21, 20, 8]\n"
     ]
    }
   ],
   "source": [
    "def filter_and_sort_odd_index(list1, list2):\n",
    "    \"\"\"\n",
    "    Fungsi ini menerima dua list sebagai input, kemudian mengambil elemen-elemen yang berada\n",
    "    pada indeks ganjil dari kedua list tersebut, lalu menggabungkan dan mengurutkannya\n",
    "    secara menurun (descending).\n",
    "    \"\"\"\n",
    "    # Mengambil elemen dengan indeks ganjil dari kedua list\n",
    "    odd_elements_list1 = [list1[i] for i in range(1, len(list1), 2)]\n",
    "    odd_elements_list2 = [list2[i] for i in range(1, len(list2), 2)]\n",
    "\n",
    "    # Menggabungkan kedua list tersebut\n",
    "    combined_list = odd_elements_list1 + odd_elements_list2\n",
    "\n",
    "    # Mengurutkan secara menurun\n",
    "    combined_list.sort(reverse=True)\n",
    "\n",
    "    return combined_list\n",
    "\n",
    "# Pemanggilan fungsi di luar fungsi\n",
    "list1 = [10, 21, 32, 43, 54, 65]\n",
    "list2 = [7, 8, 19, 20, 31, 42]\n",
    "\n",
    "result = filter_and_sort_odd_index(list1, list2)\n",
    "print(result)\n"
   ]
  },
  {
   "cell_type": "code",
   "execution_count": 6,
   "metadata": {},
   "outputs": [
    {
     "name": "stdout",
     "output_type": "stream",
     "text": [
      "PIN benar.\n",
      "Penarikan berhasil. Saldo akhir Anda adalah: 999980000.0\n"
     ]
    }
   ],
   "source": [
    "def atm_simulation():\n",
    "    correct_pin = \"1234\"\n",
    "    balance = 1000000000\n",
    "    attempts = 0\n",
    "    max_attempts = 3\n",
    "\n",
    "    # Memeriksa PIN\n",
    "    while attempts < max_attempts:\n",
    "        pin_input = input(\"Masukkan PIN Anda: \")\n",
    "\n",
    "        if pin_input == correct_pin:\n",
    "            print(\"PIN benar.\")\n",
    "\n",
    "            while True:\n",
    "                try:\n",
    "                    withdrawal_amount = float(input(\"Masukkan jumlah penarikan: \"))\n",
    "\n",
    "                    if withdrawal_amount > balance:\n",
    "                        print(\"Saldo tidak mencukupi.\")\n",
    "                    else:\n",
    "                        balance -= withdrawal_amount\n",
    "                        print(f\"Penarikan berhasil. Saldo akhir Anda adalah: {balance}\")\n",
    "                        return\n",
    "\n",
    "                except ValueError:\n",
    "                    print(\"Masukkan jumlah yang valid.\")\n",
    "\n",
    "\n",
    "            print(f\"PIN salah. {(max_attempts - attempts)} percobaan tersisa.\")\n",
    "\n",
    "    if attempts == max_attempts:\n",
    "        print(\"Akun Anda terkunci. Silakan hubungi layanan pelanggan.\")\n",
    "\n",
    "atm_simulation()\n"
   ]
  },
  {
   "cell_type": "code",
   "execution_count": 12,
   "metadata": {},
   "outputs": [],
   "source": [
    "import csv"
   ]
  },
  {
   "cell_type": "code",
   "execution_count": 18,
   "metadata": {},
   "outputs": [
    {
     "name": "stdout",
     "output_type": "stream",
     "text": [
      "Requirement already satisfied: pandas in c:\\users\\ideapad slim 3\\appdata\\local\\programs\\python\\python312\\lib\\site-packages (2.2.3)\n",
      "Requirement already satisfied: numpy>=1.26.0 in c:\\users\\ideapad slim 3\\appdata\\local\\programs\\python\\python312\\lib\\site-packages (from pandas) (2.1.1)\n",
      "Requirement already satisfied: python-dateutil>=2.8.2 in c:\\users\\ideapad slim 3\\appdata\\roaming\\python\\python312\\site-packages (from pandas) (2.8.2)\n",
      "Requirement already satisfied: pytz>=2020.1 in c:\\users\\ideapad slim 3\\appdata\\local\\programs\\python\\python312\\lib\\site-packages (from pandas) (2024.2)\n",
      "Requirement already satisfied: tzdata>=2022.7 in c:\\users\\ideapad slim 3\\appdata\\local\\programs\\python\\python312\\lib\\site-packages (from pandas) (2024.2)\n",
      "Requirement already satisfied: six>=1.5 in c:\\users\\ideapad slim 3\\appdata\\roaming\\python\\python312\\site-packages (from python-dateutil>=2.8.2->pandas) (1.16.0)\n"
     ]
    }
   ],
   "source": [
    "!pip install pandas"
   ]
  },
  {
   "cell_type": "code",
   "execution_count": 20,
   "metadata": {},
   "outputs": [
    {
     "name": "stdout",
     "output_type": "stream",
     "text": [
      "Rata-rata Nilai Tiap Mahasiswa:\n",
      "Nama Siswa\n",
      "A    85.0\n",
      "B    90.0\n",
      "C    78.0\n",
      "Name: Nilai, dtype: float64\n",
      "\n",
      "Rata-rata Nilai Seluruh Mahasiswa:\n",
      "84.33333333333333\n",
      "\n",
      "Mahasiswa dengan Nilai Tertinggi:\n",
      "Nama Siswa     B\n",
      "Nilai         90\n",
      "Name: 1, dtype: object\n",
      "\n",
      "Mahasiswa dengan Nilai Terendah:\n",
      "Nama Siswa     C\n",
      "Nilai         78\n",
      "Name: 2, dtype: object\n"
     ]
    }
   ],
   "source": [
    "import pandas as pd\n",
    "\n",
    "# Assuming df is a dataframe with columns 'Nama Siswa' and 'Nilai'\n",
    "df = pd.DataFrame({\n",
    "    'Nama Siswa': ['A', 'B', 'C'],\n",
    "    'Nilai': [85, 90, 78]\n",
    "})\n",
    "\n",
    "# Menghitung rata-rata nilai tiap mahasiswa\n",
    "rata_rata_nilai = df.groupby('Nama Siswa')['Nilai'].mean()\n",
    "\n",
    "# Menghitung rata-rata nilai seluruh mahasiswa\n",
    "rata_rata_seluruh = df['Nilai'].mean()\n",
    "\n",
    "# Menemukan mahasiswa dengan nilai tertinggi dan terendah\n",
    "nilai_tertinggi = df.loc[df['Nilai'].idxmax()]\n",
    "nilai_terendah = df.loc[df['Nilai'].idxmin()]\n",
    "\n",
    "# Menampilkan hasil\n",
    "print(\"Rata-rata Nilai Tiap Mahasiswa:\")\n",
    "print(rata_rata_nilai)\n",
    "\n",
    "print(\"\\nRata-rata Nilai Seluruh Mahasiswa:\")\n",
    "print(rata_rata_seluruh)\n",
    "\n",
    "print(\"\\nMahasiswa dengan Nilai Tertinggi:\")\n",
    "print(nilai_tertinggi)\n",
    "\n",
    "print(\"\\nMahasiswa dengan Nilai Terendah:\")\n",
    "print(nilai_terendah)\n"
   ]
  },
  {
   "cell_type": "code",
   "execution_count": 22,
   "metadata": {},
   "outputs": [
    {
     "name": "stdout",
     "output_type": "stream",
     "text": [
      "Saya telah memilih sebuah angka antara 1 dan 100. Coba tebak angka tersebut!\n"
     ]
    },
    {
     "ename": "ValueError",
     "evalue": "invalid literal for int() with base 10: ''",
     "output_type": "error",
     "traceback": [
      "\u001b[1;31m---------------------------------------------------------------------------\u001b[0m",
      "\u001b[1;31mValueError\u001b[0m                                Traceback (most recent call last)",
      "Cell \u001b[1;32mIn[22], line 29\u001b[0m\n\u001b[0;32m     25\u001b[0m         \u001b[38;5;28mprint\u001b[39m(\u001b[38;5;124mf\u001b[39m\u001b[38;5;124m\"\u001b[39m\u001b[38;5;124mSisa percobaan: \u001b[39m\u001b[38;5;132;01m{\u001b[39;00mpercobaan\u001b[38;5;132;01m}\u001b[39;00m\u001b[38;5;124m\"\u001b[39m)\n\u001b[0;32m     27\u001b[0m     \u001b[38;5;28mprint\u001b[39m(\u001b[38;5;124mf\u001b[39m\u001b[38;5;124m\"\u001b[39m\u001b[38;5;124mMaaf, Anda gagal menebak. Angka rahasianya adalah \u001b[39m\u001b[38;5;132;01m{\u001b[39;00mangka_rahasia\u001b[38;5;132;01m}\u001b[39;00m\u001b[38;5;124m.\u001b[39m\u001b[38;5;124m\"\u001b[39m)\n\u001b[1;32m---> 29\u001b[0m \u001b[43mtebak_angka\u001b[49m\u001b[43m(\u001b[49m\u001b[43m)\u001b[49m\n",
      "Cell \u001b[1;32mIn[22], line 14\u001b[0m, in \u001b[0;36mtebak_angka\u001b[1;34m()\u001b[0m\n\u001b[0;32m     10\u001b[0m \u001b[38;5;28mprint\u001b[39m(\u001b[38;5;124m\"\u001b[39m\u001b[38;5;124mSaya telah memilih sebuah angka antara 1 dan 100. Coba tebak angka tersebut!\u001b[39m\u001b[38;5;124m\"\u001b[39m)\n\u001b[0;32m     12\u001b[0m \u001b[38;5;28;01mwhile\u001b[39;00m percobaan \u001b[38;5;241m>\u001b[39m \u001b[38;5;241m0\u001b[39m:\n\u001b[0;32m     13\u001b[0m     \u001b[38;5;66;03m# Meminta input tebakan dari pengguna\u001b[39;00m\n\u001b[1;32m---> 14\u001b[0m     tebakan \u001b[38;5;241m=\u001b[39m \u001b[38;5;28;43mint\u001b[39;49m\u001b[43m(\u001b[49m\u001b[38;5;28;43minput\u001b[39;49m\u001b[43m(\u001b[49m\u001b[38;5;124;43m\"\u001b[39;49m\u001b[38;5;124;43mMasukkan tebakan Anda: \u001b[39;49m\u001b[38;5;124;43m\"\u001b[39;49m\u001b[43m)\u001b[49m\u001b[43m)\u001b[49m\n\u001b[0;32m     16\u001b[0m     \u001b[38;5;28;01mif\u001b[39;00m tebakan \u001b[38;5;241m==\u001b[39m angka_rahasia:\n\u001b[0;32m     17\u001b[0m         \u001b[38;5;28mprint\u001b[39m(\u001b[38;5;124m\"\u001b[39m\u001b[38;5;124mSelamat, Anda menebak dengan benar!\u001b[39m\u001b[38;5;124m\"\u001b[39m)\n",
      "\u001b[1;31mValueError\u001b[0m: invalid literal for int() with base 10: ''"
     ]
    }
   ],
   "source": [
    "import random\n",
    "\n",
    "def tebak_angka():\n",
    "    # Memilih angka acak antara 1 hingga 100\n",
    "    angka_rahasia = random.randint(1, 100)\n",
    "\n",
    "    # Jumlah percobaan\n",
    "    percobaan = 5\n",
    "\n",
    "    print(\"Saya telah memilih sebuah angka antara 1 dan 100. Coba tebak angka tersebut!\")\n",
    "\n",
    "    while percobaan > 0:\n",
    "        # Meminta input tebakan dari pengguna\n",
    "        tebakan = int(input(\"Masukkan tebakan Anda: \"))\n",
    "\n",
    "        if tebakan == angka_rahasia:\n",
    "            print(\"Selamat, Anda menebak dengan benar!\")\n",
    "            return\n",
    "        elif tebakan < angka_rahasia:\n",
    "            print(\"Tebakan Anda terlalu kecil.\")\n",
    "        else:\n",
    "            print(\"Tebakan Anda terlalu besar.\")\n",
    "\n",
    "        percobaan -= 1\n",
    "        print(f\"Sisa percobaan: {percobaan}\")\n",
    "\n",
    "    print(f\"Maaf, Anda gagal menebak. Angka rahasianya adalah {angka_rahasia}.\")\n",
    "\n",
    "tebak_angka()\n"
   ]
  },
  {
   "cell_type": "code",
   "execution_count": 24,
   "metadata": {},
   "outputs": [
    {
     "name": "stdout",
     "output_type": "stream",
     "text": [
      "[1, 1, 2, 6, 24]\n"
     ]
    }
   ],
   "source": [
    "def build_sequence(n):\n",
    "    # Basis: Jika n == 0, kembalikan list dengan elemen 1\n",
    "    if n == 0:\n",
    "        return [1]\n",
    "    # Rekursi untuk mengumpulkan elemen sebelumnya\n",
    "    previous_part = build_sequence(n - 1)\n",
    "\n",
    "    # Elemen baru: hitung sesuatu dengan bantuan fungsi abstrak\n",
    "    new_element = recursive_product(n)\n",
    "\n",
    "    # Gabungkan bagian sebelumnya dengan elemen baru\n",
    "    return previous_part + [new_element]\n",
    "\n",
    "def recursive_product(m):\n",
    "    # Fungsi faktorial disembunyikan sebagai 'recursive_product'\n",
    "    if m == 1:\n",
    "        return 1\n",
    "    else:\n",
    "        return m * recursive_product(m - 1)\n",
    "\n",
    "# Contoh penggunaan\n",
    "n = 4\n",
    "result = build_sequence(n)\n",
    "print(result)\n"
   ]
  },
  {
   "cell_type": "code",
   "execution_count": 27,
   "metadata": {},
   "outputs": [
    {
     "name": "stdout",
     "output_type": "stream",
     "text": [
      "Masukkan jumlah uang yang ingin ditukar:\n",
      "Masukkan nilai-nilai koin yang tersedia (pisahkan dengan spasi):\n",
      "Jumlah koin minimum yang dibutuhkan: 2\n"
     ]
    }
   ],
   "source": [
    "def minimum_coin_change(amount, coins):\n",
    "    # Urutkan koin dari nilai terbesar ke terkecil\n",
    "    coins.sort(reverse=True)\n",
    "\n",
    "    # Inisialisasi jumlah koin yang dibutuhkan\n",
    "    coin_count = 0\n",
    "\n",
    "    # Iterasi melalui setiap jenis koin\n",
    "    for coin in coins:\n",
    "        # Hitung berapa banyak koin dari jenis ini yang dibutuhkan\n",
    "        coin_needed = amount // coin\n",
    "\n",
    "        # Tambahkan jumlah koin yang dibutuhkan ke total\n",
    "        coin_count += coin_needed\n",
    "\n",
    "        # Kurangi jumlah uang yang tersisa\n",
    "        amount -= coin_needed * coin\n",
    "\n",
    "    return coin_count\n",
    "\n",
    "# Contoh penggunaan\n",
    "print(\"Masukkan jumlah uang yang ingin ditukar:\")\n",
    "amount = int(input())\n",
    "\n",
    "print(\"Masukkan nilai-nilai koin yang tersedia (pisahkan dengan spasi):\")\n",
    "coin_values = [int(x) for x in input().split()]\n",
    "\n",
    "# Hitung jumlah koin minimum yang dibutuhkan\n",
    "min_coin_count = minimum_coin_change(amount, coin_values)\n",
    "print(f\"Jumlah koin minimum yang dibutuhkan: {min_coin_count}\")\n"
   ]
  },
  {
   "cell_type": "code",
   "execution_count": 29,
   "metadata": {},
   "outputs": [
    {
     "name": "stdout",
     "output_type": "stream",
     "text": [
      "[]\n"
     ]
    }
   ],
   "source": [
    "def reverse_words(input_string):\n",
    "    # Memisahkan string menjadi list of words\n",
    "    words = input_string.split()\n",
    "\n",
    "    # Membalik setiap kata dalam list\n",
    "    reversed_words = [word[::-1] for word in words]\n",
    "\n",
    "    return reversed_words\n",
    "\n",
    "# Contoh penggunaan\n",
    "user_input = input(\"Masukkan sebuah kalimat: \")\n",
    "result = reverse_words(user_input)\n",
    "print(result)\n"
   ]
  },
  {
   "cell_type": "code",
   "execution_count": 31,
   "metadata": {},
   "outputs": [
    {
     "name": "stdout",
     "output_type": "stream",
     "text": [
      "Informasi Buku 1:\n",
      "Judul: Laskar Pelangi\n",
      "Penulis: Andrea Hirata\n",
      "Tahun Terbit: 2005\n",
      "Usia Buku: 19 tahun\n",
      "\n",
      "Informasi Buku 2:\n",
      "Judul: Negeri 5 Menara\n",
      "Penulis: Ahmad Fuadi\n",
      "Tahun Terbit: 2009\n",
      "Usia Buku: 15 tahun\n",
      "\n",
      "Informasi Buku 3:\n",
      "Judul: Bumi\n",
      "Penulis: Tere Liye\n",
      "Tahun Terbit: 2014\n",
      "Usia Buku: 10 tahun\n"
     ]
    }
   ],
   "source": [
    "import datetime\n",
    "\n",
    "class Buku:\n",
    "    def __init__(self, judul, penulis, tahun_terbit):\n",
    "        self.judul = judul\n",
    "        self.penulis = penulis\n",
    "        self.tahun_terbit = tahun_terbit\n",
    "\n",
    "    def tampilkan_info(self):\n",
    "        print(f\"Judul: {self.judul}\")\n",
    "        print(f\"Penulis: {self.penulis}\")\n",
    "        print(f\"Tahun Terbit: {self.tahun_terbit}\")\n",
    "\n",
    "    def hitung_usia(self):\n",
    "        tahun_sekarang = datetime.datetime.now().year\n",
    "        usia = tahun_sekarang - self.tahun_terbit\n",
    "        return usia\n",
    "\n",
    "# Membuat 3 objek Buku\n",
    "buku1 = Buku(\"Laskar Pelangi\", \"Andrea Hirata\", 2005)\n",
    "buku2 = Buku(\"Negeri 5 Menara\", \"Ahmad Fuadi\", 2009)\n",
    "buku3 = Buku(\"Bumi\", \"Tere Liye\", 2014)\n",
    "\n",
    "# Menampilkan informasi buku\n",
    "print(\"Informasi Buku 1:\")\n",
    "buku1.tampilkan_info()\n",
    "print(f\"Usia Buku: {buku1.hitung_usia()} tahun\")\n",
    "\n",
    "print(\"\\nInformasi Buku 2:\")\n",
    "buku2.tampilkan_info()\n",
    "print(f\"Usia Buku: {buku2.hitung_usia()} tahun\")\n",
    "\n",
    "print(\"\\nInformasi Buku 3:\")\n",
    "buku3.tampilkan_info()\n",
    "print(f\"Usia Buku: {buku3.hitung_usia()} tahun\")\n",
    "\n"
   ]
  },
  {
   "cell_type": "code",
   "execution_count": 33,
   "metadata": {},
   "outputs": [
    {
     "name": "stdout",
     "output_type": "stream",
     "text": [
      "Nilai 10 ditemukan di indeks 4.\n",
      "Nilai 11 adalah angka ganjil dan tidak bisa ditemukan.\n"
     ]
    }
   ],
   "source": [
    "def binary_search_even_only(arr, target):\n",
    "    # Cek apakah target adalah angka ganjil\n",
    "    if target % 2 != 0:\n",
    "        return f\"Nilai {target} adalah angka ganjil dan tidak bisa ditemukan.\"\n",
    "\n",
    "    # Inisialisasi batas kiri dan kanan\n",
    "    left, right = 0, len(arr) - 1\n",
    "\n",
    "    # Algoritma pencarian biner\n",
    "    while left <= right:\n",
    "        mid = (left + right) // 2\n",
    "\n",
    "        # Jika ditemukan, kembalikan indeksnya\n",
    "        if arr[mid] == target:\n",
    "            return f\"Nilai {target} ditemukan di indeks {mid}.\"\n",
    "\n",
    "        # Jika target lebih kecil, batasi pencarian di sebelah kiri\n",
    "        elif arr[mid] > target:\n",
    "            right = mid - 1\n",
    "\n",
    "        # Jika target lebih besar, batasi pencarian di sebelah kanan\n",
    "        else:\n",
    "            left = mid + 1\n",
    "\n",
    "    # Jika tidak ditemukan\n",
    "    return f\"Nilai {target} tidak ditemukan di list genap.\"\n",
    "\n",
    "# Contoh penggunaan\n",
    "arr = [2, 4, 6, 8, 10, 12, 14, 16, 18, 20]\n",
    "target1 = 10\n",
    "target2 = 11\n",
    "\n",
    "# Mencari angka genap\n",
    "result1 = binary_search_even_only(arr, target1)\n",
    "print(result1)  # Output: Nilai 10 ditemukan di indeks 4.\n",
    "\n",
    "# Mencari angka ganjil\n",
    "result2 = binary_search_even_only(arr, target2)\n",
    "print(result2)  # Output: Nilai 11 adalah angka ganjil dan tidak bisa ditemukan.\n"
   ]
  },
  {
   "cell_type": "code",
   "execution_count": null,
   "metadata": {},
   "outputs": [],
   "source": []
  }
 ],
 "metadata": {
  "kernelspec": {
   "display_name": "Python 3",
   "language": "python",
   "name": "python3"
  },
  "language_info": {
   "codemirror_mode": {
    "name": "ipython",
    "version": 3
   },
   "file_extension": ".py",
   "mimetype": "text/x-python",
   "name": "python",
   "nbconvert_exporter": "python",
   "pygments_lexer": "ipython3",
   "version": "3.12.6"
  }
 },
 "nbformat": 4,
 "nbformat_minor": 2
}
